{
 "cells": [
  {
   "cell_type": "code",
   "execution_count": 9,
   "id": "3c0b65cc",
   "metadata": {},
   "outputs": [
    {
     "name": "stdout",
     "output_type": "stream",
     "text": [
      "Requirement already satisfied: paddleocr in c:\\users\\dipasha\\anaconda3\\lib\\site-packages (2.7.0.3)\n",
      "Requirement already satisfied: rapidfuzz in c:\\users\\dipasha\\anaconda3\\lib\\site-packages (from paddleocr) (3.5.2)\n",
      "Requirement already satisfied: numpy in c:\\users\\dipasha\\anaconda3\\lib\\site-packages (from paddleocr) (1.22.4)\n",
      "Requirement already satisfied: premailer in c:\\users\\dipasha\\anaconda3\\lib\\site-packages (from paddleocr) (3.10.0)\n",
      "Requirement already satisfied: python-docx in c:\\users\\dipasha\\anaconda3\\lib\\site-packages (from paddleocr) (1.1.0)\n",
      "Requirement already satisfied: fonttools>=4.24.0 in c:\\users\\dipasha\\anaconda3\\lib\\site-packages (from paddleocr) (4.25.0)\n",
      "Requirement already satisfied: fire>=0.3.0 in c:\\users\\dipasha\\anaconda3\\lib\\site-packages (from paddleocr) (0.5.0)\n",
      "Requirement already satisfied: Pillow>=10.0.0 in c:\\users\\dipasha\\anaconda3\\lib\\site-packages (from paddleocr) (10.1.0)\n",
      "Requirement already satisfied: pdf2docx in c:\\users\\dipasha\\anaconda3\\lib\\site-packages (from paddleocr) (0.5.6)\n",
      "Requirement already satisfied: imgaug in c:\\users\\dipasha\\anaconda3\\lib\\site-packages (from paddleocr) (0.4.0)\n",
      "Requirement already satisfied: pyclipper in c:\\users\\dipasha\\anaconda3\\lib\\site-packages (from paddleocr) (1.3.0.post4)\n",
      "Requirement already satisfied: scikit-image in c:\\users\\dipasha\\anaconda3\\lib\\site-packages (from paddleocr) (0.18.3)\n",
      "Requirement already satisfied: tqdm in c:\\users\\dipasha\\anaconda3\\lib\\site-packages (from paddleocr) (4.62.3)\n",
      "Requirement already satisfied: beautifulsoup4 in c:\\users\\dipasha\\anaconda3\\lib\\site-packages (from paddleocr) (4.10.0)\n",
      "Requirement already satisfied: lmdb in c:\\users\\dipasha\\anaconda3\\lib\\site-packages (from paddleocr) (1.4.1)\n",
      "Requirement already satisfied: cython in c:\\users\\dipasha\\anaconda3\\lib\\site-packages (from paddleocr) (0.29.24)\n",
      "Requirement already satisfied: lxml in c:\\users\\dipasha\\anaconda3\\lib\\site-packages (from paddleocr) (4.6.3)\n",
      "Requirement already satisfied: opencv-python<=4.6.0.66 in c:\\users\\dipasha\\anaconda3\\lib\\site-packages (from paddleocr) (4.5.5.64)\n",
      "Requirement already satisfied: shapely in c:\\users\\dipasha\\anaconda3\\lib\\site-packages (from paddleocr) (2.0.1)\n",
      "Requirement already satisfied: attrdict in c:\\users\\dipasha\\anaconda3\\lib\\site-packages (from paddleocr) (2.0.1)\n",
      "Requirement already satisfied: openpyxl in c:\\users\\dipasha\\anaconda3\\lib\\site-packages (from paddleocr) (3.0.9)\n",
      "Requirement already satisfied: PyMuPDF<1.21.0 in c:\\users\\dipasha\\anaconda3\\lib\\site-packages (from paddleocr) (1.20.2)\n",
      "Requirement already satisfied: pyyaml in c:\\users\\dipasha\\anaconda3\\lib\\site-packages (from paddleocr) (6.0)\n",
      "Requirement already satisfied: visualdl in c:\\users\\dipasha\\anaconda3\\lib\\site-packages (from paddleocr) (2.5.3)\n",
      "Requirement already satisfied: opencv-contrib-python<=4.6.0.66 in c:\\users\\dipasha\\anaconda3\\lib\\site-packages (from paddleocr) (4.6.0.66)\n",
      "Requirement already satisfied: termcolor in c:\\users\\dipasha\\anaconda3\\lib\\site-packages (from fire>=0.3.0->paddleocr) (2.2.0)\n",
      "Requirement already satisfied: six in c:\\users\\dipasha\\anaconda3\\lib\\site-packages (from fire>=0.3.0->paddleocr) (1.16.0)\n",
      "Requirement already satisfied: soupsieve>1.2 in c:\\users\\dipasha\\anaconda3\\lib\\site-packages (from beautifulsoup4->paddleocr) (2.2.1)\n",
      "Requirement already satisfied: scipy in c:\\users\\dipasha\\anaconda3\\lib\\site-packages (from imgaug->paddleocr) (1.7.1)\n",
      "Requirement already satisfied: imageio in c:\\users\\dipasha\\anaconda3\\lib\\site-packages (from imgaug->paddleocr) (2.9.0)\n",
      "Requirement already satisfied: matplotlib in c:\\users\\dipasha\\anaconda3\\lib\\site-packages (from imgaug->paddleocr) (3.4.3)\n",
      "Requirement already satisfied: networkx>=2.0 in c:\\users\\dipasha\\anaconda3\\lib\\site-packages (from scikit-image->paddleocr) (2.6.3)\n",
      "Requirement already satisfied: tifffile>=2019.7.26 in c:\\users\\dipasha\\anaconda3\\lib\\site-packages (from scikit-image->paddleocr) (2021.7.2)\n",
      "Requirement already satisfied: PyWavelets>=1.1.1 in c:\\users\\dipasha\\anaconda3\\lib\\site-packages (from scikit-image->paddleocr) (1.1.1)\n",
      "Requirement already satisfied: python-dateutil>=2.7 in c:\\users\\dipasha\\anaconda3\\lib\\site-packages (from matplotlib->imgaug->paddleocr) (2.8.2)\n",
      "Requirement already satisfied: pyparsing>=2.2.1 in c:\\users\\dipasha\\anaconda3\\lib\\site-packages (from matplotlib->imgaug->paddleocr) (3.0.4)\n",
      "Requirement already satisfied: kiwisolver>=1.0.1 in c:\\users\\dipasha\\anaconda3\\lib\\site-packages (from matplotlib->imgaug->paddleocr) (1.3.1)\n",
      "Requirement already satisfied: cycler>=0.10 in c:\\users\\dipasha\\anaconda3\\lib\\site-packages (from matplotlib->imgaug->paddleocr) (0.10.0)\n",
      "Requirement already satisfied: et-xmlfile in c:\\users\\dipasha\\anaconda3\\lib\\site-packages (from openpyxl->paddleocr) (1.1.0)\n",
      "Requirement already satisfied: typing-extensions in c:\\users\\dipasha\\anaconda3\\lib\\site-packages (from python-docx->paddleocr) (4.7.1)\n",
      "Requirement already satisfied: cachetools in c:\\users\\dipasha\\anaconda3\\lib\\site-packages (from premailer->paddleocr) (5.3.0)\n",
      "Requirement already satisfied: requests in c:\\users\\dipasha\\anaconda3\\lib\\site-packages (from premailer->paddleocr) (2.26.0)\n",
      "Requirement already satisfied: cssutils in c:\\users\\dipasha\\anaconda3\\lib\\site-packages (from premailer->paddleocr) (2.9.0)\n",
      "Requirement already satisfied: cssselect in c:\\users\\dipasha\\anaconda3\\lib\\site-packages (from premailer->paddleocr) (1.1.0)\n",
      "Requirement already satisfied: idna<4,>=2.5 in c:\\users\\dipasha\\anaconda3\\lib\\site-packages (from requests->premailer->paddleocr) (3.2)\n",
      "Requirement already satisfied: urllib3<1.27,>=1.21.1 in c:\\users\\dipasha\\anaconda3\\lib\\site-packages (from requests->premailer->paddleocr) (1.26.7)\n",
      "Requirement already satisfied: certifi>=2017.4.17 in c:\\users\\dipasha\\anaconda3\\lib\\site-packages (from requests->premailer->paddleocr) (2023.7.22)\n",
      "Requirement already satisfied: charset-normalizer~=2.0.0 in c:\\users\\dipasha\\anaconda3\\lib\\site-packages (from requests->premailer->paddleocr) (2.0.4)\n",
      "Requirement already satisfied: colorama in c:\\users\\dipasha\\anaconda3\\lib\\site-packages (from tqdm->paddleocr) (0.4.6)\n",
      "Requirement already satisfied: bce-python-sdk in c:\\users\\dipasha\\anaconda3\\lib\\site-packages (from visualdl->paddleocr) (0.8.96)\n",
      "Requirement already satisfied: packaging in c:\\users\\dipasha\\anaconda3\\lib\\site-packages (from visualdl->paddleocr) (23.2)\n",
      "Requirement already satisfied: protobuf>=3.20.0 in c:\\users\\dipasha\\anaconda3\\lib\\site-packages (from visualdl->paddleocr) (3.20.2)\n",
      "Requirement already satisfied: flask>=1.1.1 in c:\\users\\dipasha\\anaconda3\\lib\\site-packages (from visualdl->paddleocr) (3.0.0)\n",
      "Requirement already satisfied: pandas in c:\\users\\dipasha\\anaconda3\\lib\\site-packages (from visualdl->paddleocr) (1.3.4)\n",
      "Requirement already satisfied: psutil in c:\\users\\dipasha\\anaconda3\\lib\\site-packages (from visualdl->paddleocr) (5.8.0)\n",
      "Requirement already satisfied: Flask-Babel>=3.0.0 in c:\\users\\dipasha\\anaconda3\\lib\\site-packages (from visualdl->paddleocr) (4.0.0)\n",
      "Requirement already satisfied: rarfile in c:\\users\\dipasha\\anaconda3\\lib\\site-packages (from visualdl->paddleocr) (4.1)\n",
      "Requirement already satisfied: click>=8.1.3 in c:\\users\\dipasha\\anaconda3\\lib\\site-packages (from flask>=1.1.1->visualdl->paddleocr) (8.1.7)\n",
      "Requirement already satisfied: importlib-metadata>=3.6.0 in c:\\users\\dipasha\\anaconda3\\lib\\site-packages (from flask>=1.1.1->visualdl->paddleocr) (4.8.1)\n",
      "Requirement already satisfied: Jinja2>=3.1.2 in c:\\users\\dipasha\\anaconda3\\lib\\site-packages (from flask>=1.1.1->visualdl->paddleocr) (3.1.2)\n",
      "Requirement already satisfied: Werkzeug>=3.0.0 in c:\\users\\dipasha\\anaconda3\\lib\\site-packages (from flask>=1.1.1->visualdl->paddleocr) (3.0.1)\n",
      "Requirement already satisfied: blinker>=1.6.2 in c:\\users\\dipasha\\anaconda3\\lib\\site-packages (from flask>=1.1.1->visualdl->paddleocr) (1.7.0)\n",
      "Requirement already satisfied: itsdangerous>=2.1.2 in c:\\users\\dipasha\\anaconda3\\lib\\site-packages (from flask>=1.1.1->visualdl->paddleocr) (2.1.2)\n",
      "Requirement already satisfied: Babel>=2.12 in c:\\users\\dipasha\\anaconda3\\lib\\site-packages (from Flask-Babel>=3.0.0->visualdl->paddleocr) (2.13.1)\n",
      "Requirement already satisfied: pytz>=2022.7 in c:\\users\\dipasha\\anaconda3\\lib\\site-packages (from Flask-Babel>=3.0.0->visualdl->paddleocr) (2023.3.post1)\n",
      "Requirement already satisfied: zipp>=0.5 in c:\\users\\dipasha\\anaconda3\\lib\\site-packages (from importlib-metadata>=3.6.0->flask>=1.1.1->visualdl->paddleocr) (3.6.0)\n",
      "Requirement already satisfied: MarkupSafe>=2.0 in c:\\users\\dipasha\\anaconda3\\lib\\site-packages (from Jinja2>=3.1.2->flask>=1.1.1->visualdl->paddleocr) (2.1.3)\n",
      "Requirement already satisfied: pycryptodome>=3.8.0 in c:\\users\\dipasha\\anaconda3\\lib\\site-packages (from bce-python-sdk->visualdl->paddleocr) (3.17)\n",
      "Requirement already satisfied: future>=0.6.0 in c:\\users\\dipasha\\anaconda3\\lib\\site-packages (from bce-python-sdk->visualdl->paddleocr) (0.18.2)\n"
     ]
    },
    {
     "name": "stderr",
     "output_type": "stream",
     "text": [
      "WARNING: Ignoring invalid distribution -rotobuf (c:\\users\\dipasha\\anaconda3\\lib\\site-packages)\n",
      "WARNING: Ignoring invalid distribution -rotobuf (c:\\users\\dipasha\\anaconda3\\lib\\site-packages)\n",
      "WARNING: Ignoring invalid distribution -rotobuf (c:\\users\\dipasha\\anaconda3\\lib\\site-packages)\n",
      "WARNING: Ignoring invalid distribution -rotobuf (c:\\users\\dipasha\\anaconda3\\lib\\site-packages)\n",
      "WARNING: Ignoring invalid distribution -rotobuf (c:\\users\\dipasha\\anaconda3\\lib\\site-packages)\n",
      "WARNING: Ignoring invalid distribution -rotobuf (c:\\users\\dipasha\\anaconda3\\lib\\site-packages)\n"
     ]
    }
   ],
   "source": [
    "#pip install paddleocr\n",
    "! pip install paddleocr --user"
   ]
  },
  {
   "cell_type": "code",
   "execution_count": 11,
   "id": "e7310617",
   "metadata": {},
   "outputs": [
    {
     "ename": "ModuleNotFoundError",
     "evalue": "No module named 'paddle'",
     "output_type": "error",
     "traceback": [
      "\u001b[1;31m---------------------------------------------------------------------------\u001b[0m",
      "\u001b[1;31mModuleNotFoundError\u001b[0m                       Traceback (most recent call last)",
      "\u001b[1;32m~\\AppData\\Local\\Temp/ipykernel_9996/1709619417.py\u001b[0m in \u001b[0;36m<module>\u001b[1;34m\u001b[0m\n\u001b[1;32m----> 1\u001b[1;33m \u001b[1;32mimport\u001b[0m \u001b[0mpaddleocr\u001b[0m\u001b[1;33m\u001b[0m\u001b[1;33m\u001b[0m\u001b[0m\n\u001b[0m\u001b[0;32m      2\u001b[0m \u001b[1;32mfrom\u001b[0m \u001b[0mpaddleocr\u001b[0m \u001b[1;32mimport\u001b[0m \u001b[0mPaddleOCR\u001b[0m\u001b[1;33m,\u001b[0m \u001b[0mdraw_ocr\u001b[0m\u001b[1;33m\u001b[0m\u001b[1;33m\u001b[0m\u001b[0m\n\u001b[0;32m      3\u001b[0m \u001b[1;32mimport\u001b[0m \u001b[0mmatplotlib\u001b[0m\u001b[1;33m.\u001b[0m\u001b[0mpyplot\u001b[0m \u001b[1;32mas\u001b[0m \u001b[0mplt\u001b[0m\u001b[1;33m\u001b[0m\u001b[1;33m\u001b[0m\u001b[0m\n\u001b[0;32m      4\u001b[0m \u001b[1;32mimport\u001b[0m \u001b[0mcv2\u001b[0m\u001b[1;33m\u001b[0m\u001b[1;33m\u001b[0m\u001b[0m\n\u001b[0;32m      5\u001b[0m \u001b[1;33m\u001b[0m\u001b[0m\n",
      "\u001b[1;32m~\\anaconda3\\lib\\site-packages\\paddleocr\\__init__.py\u001b[0m in \u001b[0;36m<module>\u001b[1;34m\u001b[0m\n\u001b[0;32m     12\u001b[0m \u001b[1;31m# See the License for the specific language governing permissions and\u001b[0m\u001b[1;33m\u001b[0m\u001b[1;33m\u001b[0m\u001b[0m\n\u001b[0;32m     13\u001b[0m \u001b[1;31m# limitations under the License.\u001b[0m\u001b[1;33m\u001b[0m\u001b[1;33m\u001b[0m\u001b[0m\n\u001b[1;32m---> 14\u001b[1;33m \u001b[1;32mfrom\u001b[0m \u001b[1;33m.\u001b[0m\u001b[0mpaddleocr\u001b[0m \u001b[1;32mimport\u001b[0m \u001b[1;33m*\u001b[0m\u001b[1;33m\u001b[0m\u001b[1;33m\u001b[0m\u001b[0m\n\u001b[0m\u001b[0;32m     15\u001b[0m \u001b[1;33m\u001b[0m\u001b[0m\n\u001b[0;32m     16\u001b[0m \u001b[0m__version__\u001b[0m \u001b[1;33m=\u001b[0m \u001b[0mpaddleocr\u001b[0m\u001b[1;33m.\u001b[0m\u001b[0mVERSION\u001b[0m\u001b[1;33m\u001b[0m\u001b[1;33m\u001b[0m\u001b[0m\n",
      "\u001b[1;32m~\\anaconda3\\lib\\site-packages\\paddleocr\\paddleocr.py\u001b[0m in \u001b[0;36m<module>\u001b[1;34m\u001b[0m\n\u001b[0;32m     19\u001b[0m \u001b[0m__dir__\u001b[0m \u001b[1;33m=\u001b[0m \u001b[0mos\u001b[0m\u001b[1;33m.\u001b[0m\u001b[0mpath\u001b[0m\u001b[1;33m.\u001b[0m\u001b[0mdirname\u001b[0m\u001b[1;33m(\u001b[0m\u001b[0m__file__\u001b[0m\u001b[1;33m)\u001b[0m\u001b[1;33m\u001b[0m\u001b[1;33m\u001b[0m\u001b[0m\n\u001b[0;32m     20\u001b[0m \u001b[1;33m\u001b[0m\u001b[0m\n\u001b[1;32m---> 21\u001b[1;33m \u001b[1;32mimport\u001b[0m \u001b[0mpaddle\u001b[0m\u001b[1;33m\u001b[0m\u001b[1;33m\u001b[0m\u001b[0m\n\u001b[0m\u001b[0;32m     22\u001b[0m \u001b[1;33m\u001b[0m\u001b[0m\n\u001b[0;32m     23\u001b[0m \u001b[0msys\u001b[0m\u001b[1;33m.\u001b[0m\u001b[0mpath\u001b[0m\u001b[1;33m.\u001b[0m\u001b[0mappend\u001b[0m\u001b[1;33m(\u001b[0m\u001b[0mos\u001b[0m\u001b[1;33m.\u001b[0m\u001b[0mpath\u001b[0m\u001b[1;33m.\u001b[0m\u001b[0mjoin\u001b[0m\u001b[1;33m(\u001b[0m\u001b[0m__dir__\u001b[0m\u001b[1;33m,\u001b[0m \u001b[1;34m''\u001b[0m\u001b[1;33m)\u001b[0m\u001b[1;33m)\u001b[0m\u001b[1;33m\u001b[0m\u001b[1;33m\u001b[0m\u001b[0m\n",
      "\u001b[1;31mModuleNotFoundError\u001b[0m: No module named 'paddle'"
     ]
    }
   ],
   "source": [
    "import paddleocr\n",
    "from paddleocr import PaddleOCR, draw_ocr\n",
    "import matplotlib.pyplot as plt\n",
    "import cv2\n",
    "\n",
    "ocr = PaddleOCR(use_angle_cls=True, lang='en') \n",
    "img_path = 'C:/Users/dipasha/Bank Guarantees'\n",
    "\n",
    "# Extracting text\n",
    "result = ocr.ocr(img_path, cls=True)\n",
    "\n",
    "# Draw results\n",
    "image = draw_ocr(img_path, result, font_path='PlayfairDisplay-Regular.ttf')\n",
    "image = Image.fromarray(image)\n",
    "\n",
    "# Display \n",
    "plt.imshow(image)\n",
    "plt.axis('off')\n",
    "plt.show()\n",
    "\n",
    "# Print \n",
    "for line in result:\n",
    "    line_text = ' '.join([word_info[-1] for word_info in line])\n",
    "    print(line_text)"
   ]
  },
  {
   "cell_type": "code",
   "execution_count": null,
   "id": "ad6a1ba0",
   "metadata": {},
   "outputs": [],
   "source": []
  }
 ],
 "metadata": {
  "kernelspec": {
   "display_name": "Python 3 (ipykernel)",
   "language": "python",
   "name": "python3"
  },
  "language_info": {
   "codemirror_mode": {
    "name": "ipython",
    "version": 3
   },
   "file_extension": ".py",
   "mimetype": "text/x-python",
   "name": "python",
   "nbconvert_exporter": "python",
   "pygments_lexer": "ipython3",
   "version": "3.9.7"
  }
 },
 "nbformat": 4,
 "nbformat_minor": 5
}
